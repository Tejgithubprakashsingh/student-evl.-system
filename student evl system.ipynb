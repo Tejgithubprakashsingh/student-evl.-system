{
 "cells": [
  {
   "cell_type": "code",
   "execution_count": 1,
   "metadata": {},
   "outputs": [],
   "source": [
    "import re\n",
    "from nltk.tokenize import word_tokenize\n",
    "from nltk.corpus import stopwords\n",
    "from nltk.stem import WordNetLemmatizer\n",
    "from nltk.stem import PorterStemmer"
   ]
  },
  {
   "cell_type": "code",
   "execution_count": 2,
   "metadata": {},
   "outputs": [],
   "source": [
    "def preprocess_text(text):\n",
    "    text=text.lower()\n",
    "    words=word_tokenize(text)\n",
    "    stop_word=set(stopwords.words('english'))\n",
    "    words=[word for word in words if word not in stop_word]\n",
    "    stemmer=PorterStemmer()\n",
    "    words=[stemmer.stem(word) for word in words]\n",
    "\n",
    "    proprocessed_text=' '.join(words)\n",
    "    return proprocessed_text"
   ]
  },
  {
   "cell_type": "code",
   "execution_count": 3,
   "metadata": {},
   "outputs": [
    {
     "name": "stdout",
     "output_type": "stream",
     "text": [
      "   sr_no                                           question  \\\n",
      "0    1.0  What is Python? List some popular applications...   \n",
      "1    2.0  What are the benefits of using Python language...   \n",
      "\n",
      "                                                 ans  \\\n",
      "0  Python is a widely-used general-purpose, high-...   \n",
      "1  Object-Oriented Language\\nHigh-Level Language\\...   \n",
      "\n",
      "                                                ans1  \n",
      "0  Python is a widely-used general-purpose, high-...  \n",
      "1  Object-Oriented Language\\nHigh-Level Language\\...  \n"
     ]
    }
   ],
   "source": [
    "import pandas as pd\n",
    "try:\n",
    "    ds=pd.read_csv('question_set.csv',encoding='ISO-8859-1')\n",
    "    print(ds.head(2))\n",
    "except UnicodeDecodeError as err:\n",
    "    print(f\"Error: {err}\")"
   ]
  },
  {
   "cell_type": "code",
   "execution_count": 4,
   "metadata": {},
   "outputs": [
    {
     "data": {
      "text/plain": [
       "sr_no       1\n",
       "question    1\n",
       "ans         1\n",
       "ans1        1\n",
       "dtype: int64"
      ]
     },
     "execution_count": 4,
     "metadata": {},
     "output_type": "execute_result"
    }
   ],
   "source": [
    "ds.isnull().sum()"
   ]
  },
  {
   "cell_type": "code",
   "execution_count": 5,
   "metadata": {},
   "outputs": [
    {
     "name": "stderr",
     "output_type": "stream",
     "text": [
      "C:\\Users\\hp\\AppData\\Local\\Temp\\ipykernel_24892\\1406131915.py:1: FutureWarning: Setting an item of incompatible dtype is deprecated and will raise an error in a future version of pandas. Value 'Not Mentioned' has dtype incompatible with float64, please explicitly cast to a compatible dtype first.\n",
      "  ds.fillna(\"Not Mentioned\",inplace=True)\n"
     ]
    }
   ],
   "source": [
    "ds.fillna(\"Not Mentioned\",inplace=True)\n"
   ]
  },
  {
   "cell_type": "code",
   "execution_count": 6,
   "metadata": {},
   "outputs": [
    {
     "data": {
      "text/html": [
       "<div>\n",
       "<style scoped>\n",
       "    .dataframe tbody tr th:only-of-type {\n",
       "        vertical-align: middle;\n",
       "    }\n",
       "\n",
       "    .dataframe tbody tr th {\n",
       "        vertical-align: top;\n",
       "    }\n",
       "\n",
       "    .dataframe thead th {\n",
       "        text-align: right;\n",
       "    }\n",
       "</style>\n",
       "<table border=\"1\" class=\"dataframe\">\n",
       "  <thead>\n",
       "    <tr style=\"text-align: right;\">\n",
       "      <th></th>\n",
       "      <th>sr_no</th>\n",
       "      <th>question</th>\n",
       "      <th>ans</th>\n",
       "      <th>ans1</th>\n",
       "    </tr>\n",
       "  </thead>\n",
       "  <tbody>\n",
       "    <tr>\n",
       "      <th>0</th>\n",
       "      <td>1.0</td>\n",
       "      <td>What is Python? List some popular applications...</td>\n",
       "      <td>Python is a widely-used general-purpose, high-...</td>\n",
       "      <td>python widely-us general-purpos , high-level p...</td>\n",
       "    </tr>\n",
       "  </tbody>\n",
       "</table>\n",
       "</div>"
      ],
      "text/plain": [
       "  sr_no                                           question  \\\n",
       "0   1.0  What is Python? List some popular applications...   \n",
       "\n",
       "                                                 ans  \\\n",
       "0  Python is a widely-used general-purpose, high-...   \n",
       "\n",
       "                                                ans1  \n",
       "0  python widely-us general-purpos , high-level p...  "
      ]
     },
     "execution_count": 6,
     "metadata": {},
     "output_type": "execute_result"
    }
   ],
   "source": [
    "ds['ans1']=ds['ans1'].apply(preprocess_text)\n",
    "ds.head(1)"
   ]
  },
  {
   "cell_type": "code",
   "execution_count": 7,
   "metadata": {},
   "outputs": [],
   "source": [
    "import pickle\n",
    "with open('preprocess_data.pkl','wb')as file:\n",
    "    pickle.dump(ds,file)"
   ]
  },
  {
   "cell_type": "code",
   "execution_count": 8,
   "metadata": {},
   "outputs": [],
   "source": [
    "ds['question']=ds['question'].str.strip()"
   ]
  },
  {
   "cell_type": "code",
   "execution_count": 9,
   "metadata": {},
   "outputs": [
    {
     "name": "stderr",
     "output_type": "stream",
     "text": [
      "c:\\Users\\hp\\AppData\\Local\\Programs\\Python\\Python311\\Lib\\site-packages\\sentence_transformers\\cross_encoder\\CrossEncoder.py:11: TqdmWarning: IProgress not found. Please update jupyter and ipywidgets. See https://ipywidgets.readthedocs.io/en/stable/user_install.html\n",
      "  from tqdm.autonotebook import tqdm, trange\n"
     ]
    }
   ],
   "source": [
    "from sklearn.feature_extraction.text import TfidfVectorizer\n",
    "from sklearn.metrics.pairwise import cosine_similarity\n",
    "from sentence_transformers import SentenceTransformer, util\n",
    "model=SentenceTransformer('paraphrase-MiniLM-L6-v2')\n",
    "    "
   ]
  },
  {
   "cell_type": "code",
   "execution_count": 10,
   "metadata": {},
   "outputs": [],
   "source": [
    "def suggest_sections(ans,ds,min_suggestions=1):\n",
    "    preprocessed_ans=preprocess_text(ans)\n",
    "    ans_embedding=model.encode(preprocessed_ans)\n",
    "    section_embedding=model.encode(ds['ans1'].tolist())\n",
    "    similarities=util.pytorch_cos_sim(ans_embedding,section_embedding)[0]\n",
    "    similarity_threhold=0.2\n",
    "    relevant_indices=[]\n",
    "    while len(relevant_indices)<min_suggestions and similarity_threhold>0:\n",
    "        relevant_indices=[i for i, sim in enumerate(similarities)if sim>similarity_threhold]\n",
    "        similarity_threhold-=0.5 #st=st-0.5\n",
    "        sorted_indices=sorted(relevant_indices,key=lambda i: similarities[i],reverse=True)\n",
    "        suggestions=[\n",
    "            {\n",
    "                'index':i,\n",
    "                'question':ds.iloc[i]['question'],\n",
    "                'ans':ds.iloc[i]['ans'],\n",
    "                'similarity_score':similarities[i].item()\n",
    "\n",
    "            }\n",
    "            for i in sorted_indices\n",
    "        ]\n",
    "    return suggestions"
   ]
  },
  {
   "cell_type": "code",
   "execution_count": 11,
   "metadata": {},
   "outputs": [
    {
     "name": "stdout",
     "output_type": "stream",
     "text": [
      "Following are the questions\n",
      "0    What is Python? List some popular applications...\n",
      "1    What are the benefits of using Python language...\n",
      "2    What is the difference between a Mutable datat...\n",
      "3    What is the difference between a Set and Dicti...\n",
      "4                            What is a pass in Python?\n",
      "5    Difference between for loop and while loop in ...\n",
      "6                                        Not Mentioned\n",
      "Name: question, dtype: object\n"
     ]
    },
    {
     "ename": "IndexError",
     "evalue": "list index out of range",
     "output_type": "error",
     "traceback": [
      "\u001b[1;31m---------------------------------------------------------------------------\u001b[0m",
      "\u001b[1;31mIndexError\u001b[0m                                Traceback (most recent call last)",
      "Cell \u001b[1;32mIn[11], line 8\u001b[0m\n\u001b[0;32m      4\u001b[0m ans\u001b[38;5;241m=\u001b[39m\u001b[38;5;28minput\u001b[39m(\u001b[38;5;124m\"\u001b[39m\u001b[38;5;124mEnter you ans\u001b[39m\u001b[38;5;124m\"\u001b[39m)\n\u001b[0;32m      6\u001b[0m suggestions\u001b[38;5;241m=\u001b[39msuggest_sections(ans,ds,min_suggestions\u001b[38;5;241m=\u001b[39m\u001b[38;5;241m1\u001b[39m)\n\u001b[1;32m----> 8\u001b[0m suggestion\u001b[38;5;241m=\u001b[39m\u001b[43msuggestions\u001b[49m\u001b[43m[\u001b[49m\u001b[43mn\u001b[49m\u001b[38;5;241;43m-\u001b[39;49m\u001b[38;5;241;43m1\u001b[39;49m\u001b[43m]\u001b[49m\n\u001b[0;32m     10\u001b[0m \u001b[38;5;28;01mif\u001b[39;00m suggestion:\n\u001b[0;32m     11\u001b[0m         \u001b[38;5;28mprint\u001b[39m(\u001b[38;5;124mf\u001b[39m\u001b[38;5;124m\"\u001b[39m\u001b[38;5;124msr_no: \u001b[39m\u001b[38;5;132;01m{\u001b[39;00msuggestion[\u001b[38;5;124m'\u001b[39m\u001b[38;5;124mindex\u001b[39m\u001b[38;5;124m'\u001b[39m]\u001b[38;5;241m+\u001b[39m\u001b[38;5;241m1\u001b[39m\u001b[38;5;132;01m}\u001b[39;00m\u001b[38;5;124m\"\u001b[39m)\n",
      "\u001b[1;31mIndexError\u001b[0m: list index out of range"
     ]
    }
   ],
   "source": [
    "print(\"Following are the questions\")\n",
    "print(ds['question'])\n",
    "n=int(input(\"Which question you want to ans\"))\n",
    "ans=input(\"Enter you ans\")\n",
    "\n",
    "suggestions=suggest_sections(ans,ds,min_suggestions=1)\n",
    "\n",
    "suggestion=suggestions[n-1]\n",
    "\n",
    "if suggestion:\n",
    "        print(f\"sr_no: {suggestion['index']+1}\")\n",
    "        print(f\"question: {suggestion['question']}\")\n",
    "        print(f\"Your ans :{ans}\")\n",
    "        print(f\"Expected ans: {suggestion['ans']}\")\n",
    "        print(f\"similarity score : {round(suggestion['similarity_score']*100,2)}%\")\n",
    "        print(\"_________________________________________________________________________________________\\n\")\n",
    "else:\n",
    "    print(\"No record is found\")\n"
   ]
  }
 ],
 "metadata": {
  "kernelspec": {
   "display_name": "Python 3",
   "language": "python",
   "name": "python3"
  },
  "language_info": {
   "codemirror_mode": {
    "name": "ipython",
    "version": 3
   },
   "file_extension": ".py",
   "mimetype": "text/x-python",
   "name": "python",
   "nbconvert_exporter": "python",
   "pygments_lexer": "ipython3",
   "version": "3.11.4"
  }
 },
 "nbformat": 4,
 "nbformat_minor": 2
}
